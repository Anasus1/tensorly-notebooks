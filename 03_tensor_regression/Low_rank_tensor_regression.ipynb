{
 "cells": [
  {
   "cell_type": "markdown",
   "metadata": {},
   "source": [
    "# Low-rank Tensor Regression"
   ]
  },
  {
   "cell_type": "markdown",
   "metadata": {},
   "source": [
    "Tensor regression is available in the module `tensorly.regression`.\n",
    "\n",
    "Given a series of $N$ tensor samples/observations, $\\tilde X_i, i={1, \\cdots, N}$, and corresponding labels $y_i, i={1, \\cdots, N}$, we want to find the weight tensor $\\tilde W$ such that, for each $i={1, \\cdots, N}$:\n",
    "\n",
    "$$\n",
    "   y_i = \\langle \\tilde X_i, \\tilde W \\rangle\n",
    "$$\n",
    "\n",
    "We additionally impose that $\\tilde W$ be a rank-r CP decomposition (Kruskal regression) or a rank $(r_1, \\cdots, r_N)$-Tucker decomposition (Tucker regression).\n",
    "\n",
    "TensorLy implements both types of tensor regression as scikit-learn-like estimators.\n",
    "\n",
    "For instance, Krusal regression is available through the $tensorly.regression.KruskalRegression$ object. This implements a fit method that takes as parameters $X$, the data tensor which first dimension is the number of samples, and $y$, the corresponding vector of labels.\n",
    "\n",
    "Given a set of testing samples, you can use the predict method to obtain the corresponding predictions from the model.\n",
    "\n"
   ]
  },
  {
   "cell_type": "code",
   "execution_count": 1,
   "metadata": {},
   "outputs": [],
   "source": [
    "import matplotlib.pyplot as plt\n",
    "from tensorly.base import tensor_to_vec, partial_tensor_to_vec\n",
    "from tensorly.datasets.synthetic import gen_image\n",
    "from tensorly.random import check_random_state\n",
    "from tensorly.regression.kruskal_regression import KruskalRegressor\n",
    "import tensorly.backend as T\n",
    "\n",
    "#show figures in the notebook\n",
    "%matplotlib inline"
   ]
  },
  {
   "cell_type": "code",
   "execution_count": 2,
   "metadata": {
    "collapsed": true
   },
   "outputs": [],
   "source": [
    "# Parameter of the experiment\n",
    "image_height = 25\n",
    "image_width = 25\n",
    "\n",
    "# fix the random seed for reproducibility\n",
    "rng = check_random_state(1) \n",
    "\n",
    "# Generate a random tensor\n",
    "X = T.tensor(rng.normal(size=(1000, image_height, image_width), loc=0, scale=1))"
   ]
  },
  {
   "cell_type": "markdown",
   "metadata": {},
   "source": [
    "Generate the original image"
   ]
  },
  {
   "cell_type": "code",
   "execution_count": 3,
   "metadata": {
    "collapsed": true
   },
   "outputs": [],
   "source": [
    "weight_img = gen_image(region='swiss', image_height=image_height, image_width=image_width)\n",
    "weight_img = T.tensor(weight_img)"
   ]
  },
  {
   "cell_type": "markdown",
   "metadata": {},
   "source": [
    "The true labels is obtained by taking the product between the true regression weights and the input tensors"
   ]
  },
  {
   "cell_type": "code",
   "execution_count": 4,
   "metadata": {
    "collapsed": true
   },
   "outputs": [],
   "source": [
    "y = T.dot(partial_tensor_to_vec(X, skip_begin=1), tensor_to_vec(weight_img))"
   ]
  },
  {
   "cell_type": "markdown",
   "metadata": {},
   "source": [
    "## Let's view the true regression weight "
   ]
  },
  {
   "cell_type": "code",
   "execution_count": 5,
   "metadata": {},
   "outputs": [
    {
     "data": {
      "text/plain": [
       "Text(0.5, 1.0, 'True regression weights')"
      ]
     },
     "execution_count": 5,
     "metadata": {},
     "output_type": "execute_result"
    },
    {
     "data": {
      "image/png": "[encoded data removed]",
      "text/plain": [
       "<Figure size 432x288 with 1 Axes>"
      ]
     },
     "metadata": {
      "needs_background": "light"
     },
     "output_type": "display_data"
    }
   ],
   "source": [
    "fig = plt.figure()\n",
    "ax = fig.add_subplot(1, 1, 1)\n",
    "ax.imshow(T.to_numpy(weight_img), cmap=plt.cm.OrRd, interpolation='nearest')\n",
    "ax.set_axis_off()\n",
    "ax.set_title('True regression weights')"
   ]
  },
  {
   "cell_type": "markdown",
   "metadata": {},
   "source": [
    "## Tensor regression "
   ]
  },
  {
   "cell_type": "markdown",
   "metadata": {},
   "source": [
    "### Create a tensor Regressor estimator"
   ]
  },
  {
   "cell_type": "code",
   "execution_count": 6,
   "metadata": {
    "collapsed": true
   },
   "outputs": [],
   "source": [
    "estimator = KruskalRegressor(weight_rank=2, tol=10e-7, n_iter_max=100, reg_W=1, verbose=0)"
   ]
  },
  {
   "cell_type": "markdown",
   "metadata": {},
   "source": [
    "### Fit the estimator to the data"
   ]
  },
  {
   "cell_type": "code",
   "execution_count": 7,
   "metadata": {},
   "outputs": [
    {
     "data": {
      "text/plain": [
       "<tensorly.regression.kruskal_regression.KruskalRegressor at 0xa1a4039e8>"
      ]
     },
     "execution_count": 7,
     "metadata": {},
     "output_type": "execute_result"
    }
   ],
   "source": [
    "estimator.fit(X, y)"
   ]
  },
  {
   "cell_type": "markdown",
   "metadata": {},
   "source": [
    "### Predict the labels given input tensors"
   ]
  },
  {
   "cell_type": "code",
   "execution_count": 8,
   "metadata": {},
   "outputs": [
    {
     "data": {
      "text/plain": [
       "array([ 1.26573782e+00, -2.83213723e+00, -2.06956103e+01, -4.53729371e+00,\n",
       "       -1.65466154e+01, -2.85602495e+01,  1.06794852e+01,  3.31600013e+01,\n",
       "       -3.90996358e+00, -2.81792451e+01,  1.32247325e+01, -4.01945577e+00,\n",
       "       -2.97544589e+00,  3.22827961e+01,  6.49267863e+00, -5.59805876e+00,\n",
       "        3.91032927e+00,  2.80456043e+01,  1.25606455e+01,  8.20993472e+00,\n",
       "       -2.29545042e+01,  1.15002243e+01,  1.32456267e+01,  1.09970167e+01,\n",
       "       -1.79696138e+01, -6.99621043e-03,  2.47792712e+01, -2.01705443e+01,\n",
       "        2.86083461e-02, -1.50911473e+01,  9.07476150e+00, -2.37076897e+01,\n",
       "       -6.78099254e+00, -1.25386165e+01, -5.02552451e+00, -7.85617374e+00,\n",
       "       -2.24890659e+01, -1.91881416e+01,  2.30193483e+01, -2.01272799e+01,\n",
       "       -1.98991794e+01,  3.65636770e+00,  7.83416531e+00,  5.58344619e+00,\n",
       "       -5.21122417e+00, -6.78607675e+00, -1.54218671e+01, -1.79126588e+01,\n",
       "        7.00976014e+00, -1.02208603e+01,  2.07292222e+01, -4.25044486e+00,\n",
       "        1.28878146e+01, -2.21344494e-01,  5.52808495e+00,  2.39450163e+01,\n",
       "        6.52859536e+00,  2.07900205e+01,  3.42581359e+01,  1.09101807e+01,\n",
       "       -2.33525118e+01, -1.82984943e+00,  1.04504911e+01, -2.00324577e+01,\n",
       "       -3.04505257e+00,  5.01951284e-01, -1.95619091e+01,  3.22670806e+00,\n",
       "        2.29532987e+01, -1.57821421e+01,  2.44279196e+01,  2.94797940e+01,\n",
       "       -1.57198021e+00, -1.05593641e+01, -1.25195241e+00,  1.36066097e+01,\n",
       "        9.19082783e+00,  1.17240256e+01,  2.97358333e+00, -2.72229798e+01,\n",
       "       -8.27147758e-01,  1.78700678e+01,  2.13428983e+01, -1.24314296e+01,\n",
       "       -1.64205567e+01,  1.12897926e+01,  2.12326938e+01, -2.37154201e+01,\n",
       "       -1.02750275e+00,  1.71649202e+01, -1.47881417e+01, -1.63554772e+01,\n",
       "        1.23618772e+01, -1.37366359e+01, -4.25744147e+00, -4.69918968e+00,\n",
       "       -2.18478998e+01, -1.26891073e+01,  6.76096420e+00, -6.73472917e+00,\n",
       "        8.35512774e+00, -4.95301255e+00, -8.89687567e+00, -1.35722640e+01,\n",
       "       -1.18617740e+01,  2.95350411e+00, -8.12128352e+00, -3.50467814e+00,\n",
       "        2.03930838e+00,  6.31487177e+00,  2.13629212e+01,  1.42343072e+00,\n",
       "        1.26212114e+01,  1.99747011e+01,  1.05678635e+01,  1.90267391e+01,\n",
       "        2.89867653e+00, -1.51680378e+01, -1.26983113e+01,  2.07122061e+00,\n",
       "        6.54442217e+00,  2.35189223e+01, -5.46908426e+00,  1.13805847e+01,\n",
       "       -4.27813359e+00,  1.08414858e+01, -5.28770358e+00, -1.66528407e+00,\n",
       "       -1.94979990e+01,  1.87594637e+01,  1.71720751e+00,  7.95838349e+00,\n",
       "        1.45703167e+01,  2.25678378e+01,  1.27963909e+01, -3.63967560e+00,\n",
       "       -2.08873762e+01,  4.13130777e+01,  8.96163304e+00, -6.66744921e+00,\n",
       "        1.90252898e+01, -2.20278653e+01,  4.18821259e+00, -3.08624638e+01,\n",
       "        1.96779611e+01,  1.40444052e+00, -6.02652283e+00,  5.22585064e+00,\n",
       "        2.63622533e+01,  2.51932212e+01, -1.75103733e+01,  3.18356984e-01,\n",
       "        1.11690165e+01, -4.24804622e+00, -5.36066888e+00,  3.49249325e+01,\n",
       "        1.32511631e+01,  2.07977591e+01,  3.52782285e+00,  1.12458326e+01,\n",
       "        2.66808743e+00,  6.78276045e+00,  1.13159422e-01, -8.70812883e+00,\n",
       "       -1.74326978e+01, -5.02240850e+00, -1.72801138e+01, -1.61029726e+00,\n",
       "        2.15571518e+01,  1.92350646e+01, -1.13937956e+01, -5.15991500e+00,\n",
       "       -2.27101005e+01,  1.36421521e+01,  1.70166431e+00, -6.07111799e+00,\n",
       "        7.57610926e+00, -3.09876072e+01, -3.37149609e+00, -1.39380625e+01,\n",
       "       -6.13009224e+00,  1.19030864e+00, -7.51220551e+00,  5.81416728e+00,\n",
       "       -2.35457798e+00, -1.87687957e+01, -1.79816610e+01,  8.55493607e+00,\n",
       "       -2.01014449e+01,  5.88886746e-01,  2.13469782e+01,  2.53298902e+01,\n",
       "        2.23302802e+00,  5.73564649e+00, -1.19964532e+01,  9.72824784e+00,\n",
       "        6.16446546e-01,  8.02312113e-02, -1.72097644e+01,  1.91991281e+01,\n",
       "       -1.34034182e+01,  1.00383165e+01, -1.93851040e+01,  1.55359066e+01,\n",
       "        1.64995842e+01, -1.58756840e+01,  1.26949393e+01, -2.18335429e+00,\n",
       "       -1.45986456e+01, -8.56652198e+00, -1.74357303e+01, -7.80027903e+00,\n",
       "       -1.70174888e+00, -1.26657918e+00,  5.86302577e+00, -3.45280819e+00,\n",
       "        7.62861458e+00,  6.02654643e+00,  5.21538798e+00,  2.82018481e+00,\n",
       "       -2.68738543e+01, -5.22845045e+00, -2.00966978e+01, -5.57245327e+00,\n",
       "       -1.70509607e+01, -1.35306302e+01, -1.15814879e+01, -8.75739648e+00,\n",
       "        6.87520616e+00, -7.53894965e+00,  2.14533564e+01,  3.27002713e+00,\n",
       "        7.20950879e+00,  1.42942420e+01,  7.32486666e+00, -2.30805801e+01,\n",
       "       -4.36223623e+00, -3.05045569e+01,  2.71696375e+00,  1.07753737e+01,\n",
       "        1.97341227e+00, -5.43062683e+00, -1.73940918e+01,  1.63212654e+01,\n",
       "       -1.15506147e+01, -3.29878115e-02, -8.25880470e+00, -2.41862744e+00,\n",
       "       -9.87457920e+00, -1.87306850e+01,  3.67392615e+01,  1.39460058e+01,\n",
       "       -2.88040400e+00,  2.87186507e+01, -1.15870250e+00, -2.31826755e+01,\n",
       "        5.04534238e+00, -1.15692922e+00, -2.80013988e+01,  8.77663665e+00,\n",
       "       -2.31806628e+01,  9.28569150e-01, -2.51732413e+01,  2.04638468e+01,\n",
       "        2.13118965e+01,  1.13213126e+01,  6.03342008e+00, -9.43678010e+00,\n",
       "        1.00818369e+01,  1.95524594e+01,  6.83259115e+00,  8.94337087e+00,\n",
       "       -7.71980079e+00, -6.62049885e+00,  7.47393545e+00,  9.44230343e+00,\n",
       "       -4.66280814e+00, -2.15777736e+01,  1.35598457e+01,  2.20615798e+01,\n",
       "        1.84223288e+00,  1.20376941e+01,  4.21342573e+01, -2.52210924e+01,\n",
       "       -2.73133343e+01,  6.02243362e+00,  1.88683234e+01,  7.17776722e+00,\n",
       "        3.69716295e+01,  5.58812495e+00,  1.37290418e+01,  1.05436582e+01,\n",
       "        1.02544138e+01, -4.44155895e+00, -3.08821294e+01,  2.77846079e+01,\n",
       "        1.40002645e+01,  1.60447115e+01, -2.28936649e+01, -1.84191056e+01,\n",
       "       -2.23104492e+01,  1.68740302e+01,  4.88028403e+00,  1.75140127e+00,\n",
       "        1.40584928e+01,  2.05677859e+01, -1.70195177e+01,  2.14626617e+01,\n",
       "       -4.97081125e+00, -1.18589528e+01,  5.68561879e-01,  8.32962680e+00,\n",
       "        1.15234846e+01, -7.53469418e+00,  1.32665089e+01,  1.25259482e+01,\n",
       "        1.07017274e+00,  2.56165065e+01,  2.50140753e+00, -8.42754970e+00,\n",
       "       -1.38429653e+01,  2.83791808e+01, -2.46018256e+01,  1.79525063e+01,\n",
       "       -4.09627914e+00,  3.01617113e-01,  1.15350227e+01,  5.42321339e+00,\n",
       "       -3.41547317e+00, -6.74702962e+00,  4.41530839e+00, -6.09440444e+00,\n",
       "       -7.81244750e+00, -1.58824834e+01, -8.48860619e+00, -5.92645064e+00,\n",
       "       -1.17606727e+01, -6.84194609e+00,  3.80559627e+00,  2.29549539e+01,\n",
       "        1.28457454e+01, -1.77775004e+01, -4.25990863e+00,  1.91953229e+01,\n",
       "        2.80336597e+00, -7.41408352e+00,  1.09146542e+01, -2.73956625e+00,\n",
       "       -2.21067505e+01,  1.33733788e+01, -9.22186436e+00, -2.29641716e+01,\n",
       "        7.53744994e+00,  1.28739831e+01, -1.15322478e+01, -3.44449725e+00,\n",
       "        7.40280516e+00, -1.40845236e+01,  6.67401619e+00, -1.77535628e+01,\n",
       "        1.53694525e+00,  1.23016134e+01, -7.29344983e+00, -3.13541060e+00,\n",
       "        2.92050500e+00, -5.73875992e+00,  1.65356929e+01, -2.64890897e+01,\n",
       "       -7.19460127e+00, -1.17168236e+00,  2.20353684e+01, -3.01821493e+01,\n",
       "        1.71148290e+01,  6.52431145e+00,  1.43855963e+00, -1.78276979e+00,\n",
       "        4.91057835e-01, -3.33828674e+00,  3.01672401e+01,  3.02137721e+01,\n",
       "       -1.76746626e+01, -1.18491287e+01, -2.27404012e+01, -1.15976328e+01,\n",
       "        8.38535850e+00,  4.71623894e+00, -1.39917459e+01, -1.99515593e+01,\n",
       "        4.35080652e+00, -7.60896804e+00, -8.59580457e+00, -6.43477356e+00,\n",
       "        1.66782642e+01,  7.70432791e+00, -1.78701747e+01, -4.64969382e+00,\n",
       "        2.11260412e+00, -1.35284778e+00,  1.42854609e+01, -2.30844708e+01,\n",
       "       -9.88407619e+00,  7.84973614e+00, -2.44240588e+00,  6.28722631e+00,\n",
       "       -1.93737552e+00, -3.59480463e+01, -1.34769206e+01, -2.57568016e+00,\n",
       "        1.69122980e+01,  6.46153369e+00, -1.15149919e+00,  9.00483918e+00,\n",
       "        1.66166061e+01, -1.50124054e+01,  5.13867844e+00,  4.25551249e-01,\n",
       "       -6.83047543e+00,  2.84945339e+00,  4.73010955e+00, -6.56941037e+00,\n",
       "        3.68478690e+00, -3.01259094e+01,  1.28077607e+01,  1.53160042e+01,\n",
       "        3.74743472e+00, -7.06930693e+00,  2.41921695e+00, -6.74616161e+00,\n",
       "       -3.10272442e+00, -1.10391973e+01,  3.29390337e+01,  6.29664787e+00,\n",
       "        1.14776811e+01,  7.22911888e+00, -1.06982904e+01, -5.85633979e+00,\n",
       "        1.18382149e+01, -8.06606317e+00,  2.13601841e+01, -1.41077657e+00,\n",
       "       -1.01553059e+01, -1.52060947e+01,  6.31235698e-01,  1.14593691e+00,\n",
       "       -5.18040564e+00,  1.98071826e+00,  1.33488392e+01,  2.76241043e+01,\n",
       "        1.37288255e+01, -3.35942433e+01,  5.83864177e+00,  9.67814170e+00,\n",
       "       -2.49269654e+01, -4.08630955e-01,  3.93266637e+01,  3.03571278e+00,\n",
       "       -7.66024173e+00,  2.22709037e+01, -4.91816165e+00,  5.46658487e+00,\n",
       "       -2.70961215e-01,  8.82490006e+00, -2.03998307e+01, -6.43186063e+00,\n",
       "       -2.56401514e+01,  6.11419521e+00, -7.18003225e+00,  6.39293693e+00,\n",
       "        2.18545234e+01,  1.90832709e+01, -6.04478100e+00, -2.75601188e+01,\n",
       "       -1.18274973e+01,  2.80277399e+01,  1.15001988e+01,  1.33441421e+01,\n",
       "        2.89710082e+01, -3.29511433e+00, -2.50281304e+01,  6.73122201e+00,\n",
       "        9.53423165e+00, -1.10602198e+00, -1.60664496e+01, -6.33538525e+00,\n",
       "       -2.42983700e+01,  3.42677707e+01,  2.60972703e+01,  1.80305580e+01,\n",
       "        4.66757982e+00, -8.58343576e+00,  1.30554609e+01, -9.97029125e+00,\n",
       "       -4.13103793e+00, -3.54494930e+01, -5.16859336e+00,  1.68197692e+00,\n",
       "       -1.60877742e+01,  1.54398615e+01, -2.73015574e+00, -8.49992940e+00,\n",
       "       -1.31470843e+01, -7.54176486e+00, -6.05662027e+00,  3.42585409e+00,\n",
       "       -6.32058288e+00, -6.00471555e+00, -2.91120985e+01,  1.44724638e+01,\n",
       "       -7.16740222e+00, -2.90898718e+01,  1.24723559e+01, -2.43629904e+01,\n",
       "        3.90225929e+00,  4.17556318e-01, -3.77758497e+01,  5.71674461e+00,\n",
       "       -3.67342218e+00,  1.66591510e+01,  2.76261154e+01,  2.86375946e+01,\n",
       "       -8.61979060e+00,  2.67695915e+00,  5.01496674e+00, -1.46050472e+01,\n",
       "        1.87859678e+01, -2.36762763e+01,  2.68006514e+00,  2.52134177e+01,\n",
       "        3.50496350e+01, -7.33433890e+00,  1.26129875e+01,  2.38690402e+01,\n",
       "        1.43374672e+01,  6.01618617e+00, -8.67624075e+00,  1.07938414e+01,\n",
       "        7.19959863e+00,  1.78464482e+01, -1.13178314e+01,  9.52933253e+00,\n",
       "        1.48636966e+01, -1.43807755e+01,  1.92391189e+01, -1.59198628e+01,\n",
       "       -1.66096398e+01, -9.63671783e+00,  1.59391850e+01,  1.76357529e+00,\n",
       "       -1.15119474e+01, -2.67273395e+01, -9.30300190e+00,  8.18430866e+00,\n",
       "        5.80555850e+00,  6.49887265e+00,  1.94252817e+00,  1.67035461e+01,\n",
       "       -3.10281666e+01,  4.54159846e+00, -2.34346389e+01,  1.68552300e+01,\n",
       "        1.55927243e+01, -3.43528492e+01, -7.39119156e+00,  2.34932031e+00,\n",
       "       -2.33692811e+01,  1.23212555e+00, -2.11148874e+01, -2.51043666e+01,\n",
       "        8.24589846e+00, -1.27169025e+01, -2.05925342e+01, -2.67455086e+01,\n",
       "        1.21324437e+01, -1.75020351e+01,  8.86246401e+00, -1.28362818e+01,\n",
       "       -1.09708107e+00, -9.50742236e+00,  2.09429065e-01, -1.12165100e+01,\n",
       "       -8.93135383e+00,  5.15235416e+00, -3.39086599e+00,  5.62176527e+01,\n",
       "        1.31385184e+01,  1.36073551e+01,  1.82694535e+01,  4.07953423e+01,\n",
       "       -3.03939893e+00, -1.48680286e+01,  3.77893040e-01, -2.44219605e+01,\n",
       "        1.16683711e+00, -1.26715831e+01, -6.37792890e+00,  1.23722091e+01,\n",
       "       -1.24741607e+01,  2.77937097e+01, -1.96503997e+00,  8.40815613e+00,\n",
       "        6.53563689e+00,  1.90628103e+01, -2.90264182e+01,  3.43214432e+00,\n",
       "        1.98492566e+01, -5.41264226e+00,  1.56704986e+01,  2.61095409e+01,\n",
       "        8.08765315e+00, -2.98731065e+00, -2.58248590e+01, -2.38427393e+01,\n",
       "        4.90735315e+00,  2.23551763e+01, -4.82655306e+00, -2.50072811e+01,\n",
       "        7.75544934e+00, -5.62630399e+00,  2.22401459e+01, -2.29541736e+01,\n",
       "        1.49091664e+01,  3.98852037e+00, -1.27585784e+01,  3.59102093e+01,\n",
       "        1.37312046e+01,  1.78781602e+01,  2.49171461e+01, -5.67142959e+00,\n",
       "       -2.64871829e+01, -1.09375870e+01, -7.49807297e+00, -2.20392211e+00,\n",
       "       -5.36123140e+00, -1.43095949e+01, -2.03374340e+01, -1.09512059e+01,\n",
       "        3.69137404e+01, -7.05437644e+00, -2.46794187e+01, -1.14134802e+00,\n",
       "       -6.50660898e+00, -3.79382516e+01,  1.67078790e+01, -1.14195030e+00,\n",
       "       -1.34944857e+01,  6.05236669e+00,  1.22679808e+01,  6.08600628e+00,\n",
       "       -1.64730764e-01, -5.29039908e-01, -2.36303610e+01, -3.57180804e+01,\n",
       "        6.33613714e+00, -1.50720049e+00, -2.32409041e-01,  1.14969489e+01,\n",
       "        1.77957346e+00, -9.65330425e+00, -2.16758991e+00,  2.11727441e+01,\n",
       "       -1.64236316e+00,  1.48348933e+01,  3.67053168e+00, -2.52879716e+01,\n",
       "        5.59301881e+00, -7.68559519e+00,  1.55754568e+01, -4.48467758e+01,\n",
       "        1.60507830e+01,  3.28678420e+01, -2.71748765e+01, -1.30741649e+01,\n",
       "       -1.32970049e+01,  2.02716841e+01, -3.08351546e+00, -7.86721158e+00,\n",
       "        9.73214010e+00,  1.29063567e+01,  2.65122197e+00,  3.49807034e+00,\n",
       "       -6.58014579e+00,  8.86307772e+00,  1.55376239e+01, -9.31418628e+00,\n",
       "        8.54051043e+00,  1.22827859e+01,  5.59051828e+00, -1.57061302e+01,\n",
       "       -1.77040313e+01, -1.34800611e+01, -1.47843490e+01, -1.01236227e+01,\n",
       "       -5.90598582e+00, -3.78697144e+00,  1.62153908e+01,  1.72251558e+00,\n",
       "        2.60554149e+00, -1.82582849e+01, -1.56534384e+01,  1.15060149e+01,\n",
       "        5.64044491e+00,  1.14446058e+01, -1.43988779e+01,  5.61100347e+00,\n",
       "        7.90831599e+00,  6.94453302e+00, -2.84165916e+01, -6.16961800e+00,\n",
       "        1.13809623e+01, -4.70764119e+00,  2.09400064e+01, -1.50877005e+01,\n",
       "        5.84936172e-01, -3.31066018e-01, -1.52769655e+01,  4.08322531e+00,\n",
       "        1.49564763e+01,  1.11271432e+01, -1.19116981e+01,  3.23777130e+01,\n",
       "       -3.88903379e+00, -1.12773800e+01,  2.42976931e+00,  1.00764850e+01,\n",
       "       -1.46143399e+00, -9.09800137e+00,  1.36652341e+01, -7.12557964e+00,\n",
       "        9.67823164e-01, -9.93124816e+00,  1.13645941e+01,  1.62322880e+01,\n",
       "        2.49880676e+00, -8.67339642e+00,  2.65403778e+01, -9.21141760e+00,\n",
       "       -7.33018458e+00,  2.05500124e+01, -1.79021754e+01,  1.85109588e+01,\n",
       "        1.22678422e+01, -8.15778582e+00,  4.74463980e+00, -7.25363436e+00,\n",
       "        1.55830703e+01,  8.92684899e+00, -2.53679375e+01,  2.19748385e+00,\n",
       "       -3.90949891e+01, -1.77303130e+00, -7.52349239e+00, -3.94322279e+01,\n",
       "        1.74615426e+00,  1.04477507e+01, -7.58330500e+00, -2.32109447e+01,\n",
       "       -6.98356546e+00, -1.42204134e+01, -2.82843136e+01, -5.04437491e+00,\n",
       "        1.68864231e+01, -1.19774596e+01, -3.68956186e+00,  1.04234650e+01,\n",
       "        2.69541227e+00,  2.68628268e+00,  3.31893093e+00,  5.25689949e+00,\n",
       "       -1.28175244e+01, -1.29458135e+01,  1.44403690e+01, -1.11701928e+01,\n",
       "       -1.21137341e+01,  1.95669655e+01, -1.95393662e+00,  1.00290036e+01,\n",
       "        2.58076419e+01,  2.59342862e+00,  1.10342963e+01, -7.75703461e+00,\n",
       "       -2.05730247e+01,  9.62788670e-01,  4.01407554e+00,  2.32330982e+01,\n",
       "        3.77227476e+00,  6.96758393e+00, -1.71385580e+01, -1.73548128e+01,\n",
       "       -8.32644832e+00, -1.40319620e+01,  2.92869777e+00,  1.02347632e+01,\n",
       "       -2.73813543e+00, -3.92623812e+00,  3.73603770e-01,  3.07149805e+01,\n",
       "       -2.66588692e+01,  7.10279389e+00,  2.76914648e+01, -1.63207540e+00,\n",
       "        1.89614724e+01, -1.44565298e+01,  1.32654546e+01, -6.44349759e+00,\n",
       "       -7.96174216e+00, -8.88812581e+00, -3.64155825e+00, -1.93770010e+01,\n",
       "        2.69708528e+00,  3.17409122e+01,  1.56749143e+01, -4.30688577e-02,\n",
       "        1.85783670e+01,  2.71432153e+00,  1.14665215e+01, -1.36320576e+01,\n",
       "        2.85111911e+01, -2.46581333e+01,  2.95787272e+00, -9.22727259e+00,\n",
       "       -3.77799502e+00, -1.94057490e+01,  8.42277572e+00, -1.01865298e+01,\n",
       "        3.92966398e+00, -1.52990930e+01, -1.52480667e+01, -2.40044173e+00,\n",
       "        1.17247656e+01, -2.63009878e+01,  3.06547926e+00, -1.05646890e+01,\n",
       "        2.54037908e+00, -1.30439014e+01, -4.03236414e+00,  1.75060234e+01,\n",
       "       -2.51795608e+01, -6.08201652e+00, -9.26228152e+00, -2.49784989e+01,\n",
       "        3.50244823e+00, -6.98674207e+00,  2.65150084e+00,  1.30731097e+01,\n",
       "       -3.46038865e+00,  1.22365660e+01,  8.95181393e+00,  7.55818903e+00,\n",
       "       -4.27416892e-02,  4.23831200e-01,  1.17967858e+01,  1.27459099e+01,\n",
       "        9.22160730e+00, -1.58052119e+01,  1.11981793e+01, -2.33076899e+00,\n",
       "       -8.22813404e+00,  4.70328793e+00, -3.10741945e+00,  1.60760437e+01,\n",
       "       -4.98096300e+00,  1.71718336e+01,  1.39013631e+01,  3.41717103e+01,\n",
       "        3.83870249e+00,  3.56511014e+00, -1.79307826e+00, -1.06902800e+01,\n",
       "        8.06239607e+00,  6.71047612e+00,  2.06761432e+00,  9.54103608e+00,\n",
       "       -8.22824028e+00, -3.97726241e+00,  2.59632038e+01, -1.30123096e+01,\n",
       "       -1.70339928e+01,  7.09221543e-01, -4.24786199e+00,  9.69636799e+00,\n",
       "        3.45407065e+00, -1.07467860e+01, -1.12454594e+01,  7.37845019e+00,\n",
       "        1.46844375e+01,  1.95135403e+00,  7.52872199e+00,  5.38749737e+00,\n",
       "        4.79663330e+00, -9.84485367e+00, -1.61386166e+01, -1.72576144e+00,\n",
       "       -2.31776229e+01, -2.47832502e+01,  9.44005257e+00, -9.99186696e-01,\n",
       "       -6.36100369e+00, -1.31452385e+00,  3.00553752e+01, -1.55990548e+01,\n",
       "        6.74701215e+00,  1.76497204e+01,  2.27651255e+01,  9.83169651e+00,\n",
       "        1.71878958e+01,  2.09556655e+00, -1.91185596e+01, -1.46785940e+01,\n",
       "       -1.35195787e+01,  2.75936112e+01,  7.51561493e+00, -3.50945913e+00,\n",
       "       -1.33360162e+00,  2.04647581e+01,  1.04555549e+01,  1.24631871e+01,\n",
       "        3.01298507e+00, -2.22699382e+01,  5.00318100e-01, -1.64810081e+01,\n",
       "        1.33960630e+01,  5.75029024e+00, -1.66638759e+01,  1.10725043e+01,\n",
       "        3.73027804e+01, -7.77280236e+00, -3.10428139e+01,  1.14207976e+01,\n",
       "       -2.86349716e+00,  4.62755189e+00, -7.57081684e-01, -3.95882975e+00,\n",
       "        4.41912904e+00,  1.95524433e+01,  1.21091921e+01,  3.48594638e+00,\n",
       "       -9.37641058e+00,  1.11150164e+01, -2.18579015e+01,  3.03512738e+01,\n",
       "        1.60348826e+01,  1.13877339e+01,  7.81302139e+00, -7.20569675e-01,\n",
       "       -5.97302722e+00,  2.71256180e+00,  1.55512266e-01, -2.47071340e+01,\n",
       "        3.42749633e+01, -1.50507138e+01,  1.45013880e+01, -7.23984697e+00,\n",
       "       -2.27391092e+01,  1.28051847e+00,  1.23791986e+01,  1.05191494e+01,\n",
       "        1.79437451e+01, -4.74340885e-01, -1.49280721e+01,  6.21621153e+00,\n",
       "       -4.46648012e+00, -2.07899155e+00,  8.35861405e+00, -2.17851358e+00,\n",
       "        1.37425763e+01, -6.79750073e+00, -1.10222501e+01, -3.61722046e+00,\n",
       "        1.52902922e+01, -2.59727008e+01, -1.20007841e+00, -2.37298809e+01,\n",
       "       -1.71168310e+01, -1.60655460e+01,  7.95292219e-01, -1.12152459e+01,\n",
       "        1.44878999e+01,  5.22674009e+00,  6.87314369e+00,  2.69880892e+01,\n",
       "       -3.97840192e+00, -7.42212360e+00,  2.19727449e-01,  9.07514602e+00,\n",
       "        2.16386014e+01, -3.47575463e+00,  1.33346638e+00, -2.99624203e+01,\n",
       "        2.99246574e+01,  1.45639592e+01,  5.51158745e+00, -1.01724375e+01,\n",
       "        9.68594758e+00, -1.84080466e+01,  6.21721326e+00,  1.16987976e+01,\n",
       "        3.77295162e+00,  6.59194290e+00, -3.67047031e+00,  3.82985061e+00])"
      ]
     },
     "execution_count": 8,
     "metadata": {},
     "output_type": "execute_result"
    }
   ],
   "source": [
    "estimator.predict(X)"
   ]
  },
  {
   "cell_type": "markdown",
   "metadata": {},
   "source": [
    "### Visualise the learned weights"
   ]
  },
  {
   "cell_type": "code",
   "execution_count": 9,
   "metadata": {},
   "outputs": [
    {
     "data": {
      "text/plain": [
       "Text(0.5, 1.0, 'Learned regression weights')"
      ]
     },
     "execution_count": 9,
     "metadata": {},
     "output_type": "execute_result"
    },
    {
     "data": {
      "image/png": "[encoded data removed]",
      "text/plain": [
       "<Figure size 432x288 with 1 Axes>"
      ]
     },
     "metadata": {
      "needs_background": "light"
     },
     "output_type": "display_data"
    }
   ],
   "source": [
    "fig = plt.figure()\n",
    "ax = fig.add_subplot(1, 1, 1)\n",
    "ax.imshow(T.to_numpy(estimator.weight_tensor_), cmap=plt.cm.OrRd, interpolation='nearest')\n",
    "ax.set_axis_off()\n",
    "ax.set_title('Learned regression weights')"
   ]
  },
  {
   "cell_type": "markdown",
   "metadata": {},
   "source": [
    "Wait! Weren't the learned weights supposed to be a low rank tensor in the Krusakl form!?\n",
    "\n",
    "They are! We simply plot the full tensor corresponding to the learned decomposition. You can access the decomposed form as follows:"
   ]
  },
  {
   "cell_type": "code",
   "execution_count": 10,
   "metadata": {
    "collapsed": true
   },
   "outputs": [],
   "source": [
    "factors = estimator.kruskal_weight_"
   ]
  }
 ],
 "metadata": {
  "kernelspec": {
   "display_name": "Python 3",
   "language": "python",
   "name": "python3"
  },
  "language_info": {
   "codemirror_mode": {
    "name": "ipython",
    "version": 3
   },
   "file_extension": ".py",
   "mimetype": "text/x-python",
   "name": "python",
   "nbconvert_exporter": "python",
   "pygments_lexer": "ipython3",
   "version": "3.7.3"
  }
 },
 "nbformat": 4,
 "nbformat_minor": 2
}
